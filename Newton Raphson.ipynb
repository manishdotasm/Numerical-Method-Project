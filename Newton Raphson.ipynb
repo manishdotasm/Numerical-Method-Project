{
 "cells": [
  {
   "cell_type": "code",
   "execution_count": 2,
   "id": "0841d284",
   "metadata": {},
   "outputs": [],
   "source": [
    "import sympy as sp\n",
    "import matplotlib.pyplot as plt\n",
    "import pandas as pd\n",
    "import numpy as np"
   ]
  },
  {
   "cell_type": "code",
   "execution_count": 3,
   "id": "a9548af6",
   "metadata": {},
   "outputs": [],
   "source": [
    "#declaring x as symbol\n",
    "x = sp.Symbol('x')"
   ]
  },
  {
   "cell_type": "code",
   "execution_count": 4,
   "id": "e44a5687",
   "metadata": {},
   "outputs": [],
   "source": [
    "def Newton_Raphson(f, ig, err_tol):\n",
    "    exp = sp.sympify(f, evaluate = False) # changing string to sympy function\n",
    "    delta = sp.diff(exp, x) #derivative of exp \n",
    "    \n",
    "    data = []\n",
    "    error_diff = err_tol\n",
    "    init_guess = ig\n",
    "    f_x = d_x = next_guess = 0\n",
    "    while (err_tol <= error_diff):\n",
    "        f_x = (exp.subs(x, init_guess)).evalf()\n",
    "        d_x = (delta.subs(x, init_guess)).evalf()\n",
    "        next_guess = (init_guess - (f_x/d_x)).evalf()\n",
    "        error_diff = abs((f_x/d_x).evalf())\n",
    "        \n",
    "        row = [round(init_guess,5) , round(f_x, 5) , round(d_x, 5) , round(next_guess,5 ) , round(error_diff, 5)]\n",
    "        data.append(row)\n",
    "        \n",
    "        init_guess = next_guess\n",
    "        \n",
    "    df = pd.DataFrame(data, columns = [\"x(n)\", \"f(x)\", \"f'(x)\", \"x(n+1)\", \"e(n) - e(n-1)\"])\n",
    "    return [data, df]"
   ]
  },
  {
   "cell_type": "code",
   "execution_count": 12,
   "id": "16387ad0",
   "metadata": {
    "scrolled": true
   },
   "outputs": [
    {
     "data": {
      "text/html": [
       "<div>\n",
       "<style scoped>\n",
       "    .dataframe tbody tr th:only-of-type {\n",
       "        vertical-align: middle;\n",
       "    }\n",
       "\n",
       "    .dataframe tbody tr th {\n",
       "        vertical-align: top;\n",
       "    }\n",
       "\n",
       "    .dataframe thead th {\n",
       "        text-align: right;\n",
       "    }\n",
       "</style>\n",
       "<table border=\"1\" class=\"dataframe\">\n",
       "  <thead>\n",
       "    <tr style=\"text-align: right;\">\n",
       "      <th></th>\n",
       "      <th>x(n)</th>\n",
       "      <th>f(x)</th>\n",
       "      <th>f'(x)</th>\n",
       "      <th>x(n+1)</th>\n",
       "      <th>e(n) - e(n-1)</th>\n",
       "    </tr>\n",
       "  </thead>\n",
       "  <tbody>\n",
       "    <tr>\n",
       "      <th>0</th>\n",
       "      <td>1</td>\n",
       "      <td>-1.00000000000000</td>\n",
       "      <td>2.00000000000000</td>\n",
       "      <td>1.50000</td>\n",
       "      <td>0.50000</td>\n",
       "    </tr>\n",
       "    <tr>\n",
       "      <th>1</th>\n",
       "      <td>1.50000</td>\n",
       "      <td>0.87500</td>\n",
       "      <td>5.75000</td>\n",
       "      <td>1.34783</td>\n",
       "      <td>0.15217</td>\n",
       "    </tr>\n",
       "    <tr>\n",
       "      <th>2</th>\n",
       "      <td>1.34783</td>\n",
       "      <td>0.10068</td>\n",
       "      <td>4.44991</td>\n",
       "      <td>1.32520</td>\n",
       "      <td>0.02263</td>\n",
       "    </tr>\n",
       "    <tr>\n",
       "      <th>3</th>\n",
       "      <td>1.32520</td>\n",
       "      <td>0.00206</td>\n",
       "      <td>4.26847</td>\n",
       "      <td>1.32472</td>\n",
       "      <td>0.00048</td>\n",
       "    </tr>\n",
       "    <tr>\n",
       "      <th>4</th>\n",
       "      <td>1.32472</td>\n",
       "      <td>0.0</td>\n",
       "      <td>4.26463</td>\n",
       "      <td>1.32472</td>\n",
       "      <td>0.0</td>\n",
       "    </tr>\n",
       "  </tbody>\n",
       "</table>\n",
       "</div>"
      ],
      "text/plain": [
       "      x(n)               f(x)             f'(x)   x(n+1) e(n) - e(n-1)\n",
       "0        1  -1.00000000000000  2.00000000000000  1.50000       0.50000\n",
       "1  1.50000            0.87500           5.75000  1.34783       0.15217\n",
       "2  1.34783            0.10068           4.44991  1.32520       0.02263\n",
       "3  1.32520            0.00206           4.26847  1.32472       0.00048\n",
       "4  1.32472                0.0           4.26463  1.32472           0.0"
      ]
     },
     "execution_count": 12,
     "metadata": {},
     "output_type": "execute_result"
    }
   ],
   "source": [
    "f = \" x**3 - x - 1\"\n",
    "func = sp.sympify(f, evaluate = False)\n",
    "error_diff = 0.000001\n",
    "init_guess = 1\n",
    "solution = Newton_Raphson(f, init_guess, error_diff)\n",
    "solution[1]"
   ]
  },
  {
   "cell_type": "code",
   "execution_count": 13,
   "id": "098238b6",
   "metadata": {},
   "outputs": [],
   "source": [
    "x_values = [x_val[0] for x_val in solution[0]]\n",
    "y_values = [y_val[1] for y_val in solution[0]]\n",
    "root = float((x_values[-1]).evalf())"
   ]
  },
  {
   "cell_type": "code",
   "execution_count": 14,
   "id": "292d608b",
   "metadata": {},
   "outputs": [
    {
     "data": {
      "image/png": "[encoded data removed]",
      "text/plain": [
       "<Figure size 640x480 with 1 Axes>"
      ]
     },
     "metadata": {},
     "output_type": "display_data"
    }
   ],
   "source": [
    "f_numeric = sp.lambdify(x, func, 'numpy')\n",
    "x_vals = np.linspace(root+1, root-1, 100)\n",
    "y_vals = f_numeric(x_vals)\n",
    "fig, ax = plt.subplots()\n",
    "ax.plot(x_vals, y_vals, label='f(x)', linestyle='-', color='blue')\n",
    "ax.axhline(y=0, color='red', linestyle='--', label='y = 0')\n",
    "ax.scatter(x_values, y_values, color='green', label='x-values')\n",
    "plt.legend(loc='upper left')\n",
    "plt.show()"
   ]
  },
  {
   "cell_type": "code",
   "execution_count": null,
   "id": "58b5ea99",
   "metadata": {},
   "outputs": [],
   "source": []
  },
  {
   "cell_type": "code",
   "execution_count": null,
   "id": "dd8b861e",
   "metadata": {},
   "outputs": [],
   "source": []
  }
 ],
 "metadata": {
  "kernelspec": {
   "display_name": "Python 3 (ipykernel)",
   "language": "python",
   "name": "python3"
  },
  "language_info": {
   "codemirror_mode": {
    "name": "ipython",
    "version": 3
   },
   "file_extension": ".py",
   "mimetype": "text/x-python",
   "name": "python",
   "nbconvert_exporter": "python",
   "pygments_lexer": "ipython3",
   "version": "3.11.4"
  }
 },
 "nbformat": 4,
 "nbformat_minor": 5
}
